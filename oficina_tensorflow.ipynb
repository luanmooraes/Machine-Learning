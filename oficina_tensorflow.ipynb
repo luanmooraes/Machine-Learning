{
  "nbformat": 4,
  "nbformat_minor": 0,
  "metadata": {
    "colab": {
      "name": "oficina_tensorflow.ipynb",
      "provenance": [],
      "include_colab_link": true
    },
    "kernelspec": {
      "name": "python3",
      "display_name": "Python 3"
    }
  },
  "cells": [
    {
      "cell_type": "markdown",
      "metadata": {
        "id": "view-in-github",
        "colab_type": "text"
      },
      "source": [
        "<a href=\"https://colab.research.google.com/github/luanmooraes/Machine-Learning/blob/main/oficina_tensorflow.ipynb\" target=\"_parent\"><img src=\"https://colab.research.google.com/assets/colab-badge.svg\" alt=\"Open In Colab\"/></a>"
      ]
    },
    {
      "cell_type": "code",
      "metadata": {
        "id": "gqKCu9hE0Wyl"
      },
      "source": [
        "import tensorflow as tf\r\n",
        "from tensorflow import keras\r\n",
        "import numpy as np"
      ],
      "execution_count": null,
      "outputs": []
    },
    {
      "cell_type": "code",
      "metadata": {
        "colab": {
          "base_uri": "https://localhost:8080/"
        },
        "id": "8S3q0M4J0nxd",
        "outputId": "45962cf6-2c29-4339-d0c3-42b93a3222ec"
      },
      "source": [
        "fashion_mnist = keras.datasets.fashion_mnist\r\n",
        "(train_images, train_labels), (test_images, test_labels) = fashion_mnist.load_data()"
      ],
      "execution_count": null,
      "outputs": [
        {
          "output_type": "stream",
          "text": [
            "Downloading data from https://storage.googleapis.com/tensorflow/tf-keras-datasets/train-labels-idx1-ubyte.gz\n",
            "32768/29515 [=================================] - 0s 0us/step\n",
            "Downloading data from https://storage.googleapis.com/tensorflow/tf-keras-datasets/train-images-idx3-ubyte.gz\n",
            "26427392/26421880 [==============================] - 0s 0us/step\n",
            "Downloading data from https://storage.googleapis.com/tensorflow/tf-keras-datasets/t10k-labels-idx1-ubyte.gz\n",
            "8192/5148 [===============================================] - 0s 0us/step\n",
            "Downloading data from https://storage.googleapis.com/tensorflow/tf-keras-datasets/t10k-images-idx3-ubyte.gz\n",
            "4423680/4422102 [==============================] - 0s 0us/step\n"
          ],
          "name": "stdout"
        }
      ]
    },
    {
      "cell_type": "code",
      "metadata": {
        "colab": {
          "base_uri": "https://localhost:8080/"
        },
        "id": "eMz9umx-1hE5",
        "outputId": "cd1664a6-b2c0-4cad-d89d-a8a98a53ea53"
      },
      "source": [
        "train_images.shape"
      ],
      "execution_count": null,
      "outputs": [
        {
          "output_type": "execute_result",
          "data": {
            "text/plain": [
              "(60000, 28, 28)"
            ]
          },
          "metadata": {
            "tags": []
          },
          "execution_count": 4
        }
      ]
    },
    {
      "cell_type": "code",
      "metadata": {
        "colab": {
          "base_uri": "https://localhost:8080/"
        },
        "id": "yuxAnnrl1nio",
        "outputId": "e1f10306-1bda-4e81-bd9c-e2b2ac4ea9cf"
      },
      "source": [
        "len(train_labels)"
      ],
      "execution_count": null,
      "outputs": [
        {
          "output_type": "execute_result",
          "data": {
            "text/plain": [
              "60000"
            ]
          },
          "metadata": {
            "tags": []
          },
          "execution_count": 6
        }
      ]
    },
    {
      "cell_type": "code",
      "metadata": {
        "colab": {
          "base_uri": "https://localhost:8080/"
        },
        "id": "Qn9ImlvT13dg",
        "outputId": "317468d2-2e0f-4cba-b641-a99cc273ae6c"
      },
      "source": [
        "np.unique(train_labels)"
      ],
      "execution_count": null,
      "outputs": [
        {
          "output_type": "execute_result",
          "data": {
            "text/plain": [
              "array([0, 1, 2, 3, 4, 5, 6, 7, 8, 9], dtype=uint8)"
            ]
          },
          "metadata": {
            "tags": []
          },
          "execution_count": 7
        }
      ]
    },
    {
      "cell_type": "code",
      "metadata": {
        "colab": {
          "base_uri": "https://localhost:8080/"
        },
        "id": "mEbNl_Cu17st",
        "outputId": "c6e7b208-c8c7-4e70-ac7e-2d13eff723e3"
      },
      "source": [
        "test_images.shape"
      ],
      "execution_count": null,
      "outputs": [
        {
          "output_type": "execute_result",
          "data": {
            "text/plain": [
              "(10000, 28, 28)"
            ]
          },
          "metadata": {
            "tags": []
          },
          "execution_count": 11
        }
      ]
    },
    {
      "cell_type": "code",
      "metadata": {
        "colab": {
          "base_uri": "https://localhost:8080/"
        },
        "id": "vZS0Wqpm2I9L",
        "outputId": "6cdd8c71-5a80-4b6c-a76c-8e1906499eae"
      },
      "source": [
        "len(test_labels)"
      ],
      "execution_count": null,
      "outputs": [
        {
          "output_type": "execute_result",
          "data": {
            "text/plain": [
              "10000"
            ]
          },
          "metadata": {
            "tags": []
          },
          "execution_count": 12
        }
      ]
    },
    {
      "cell_type": "code",
      "metadata": {
        "colab": {
          "base_uri": "https://localhost:8080/"
        },
        "id": "QfYT1hK42WiU",
        "outputId": "9aa9bd1c-8dea-4955-d255-ef8f7fe9b043"
      },
      "source": [
        "test_labels"
      ],
      "execution_count": null,
      "outputs": [
        {
          "output_type": "execute_result",
          "data": {
            "text/plain": [
              "array([9, 2, 1, ..., 8, 1, 5], dtype=uint8)"
            ]
          },
          "metadata": {
            "tags": []
          },
          "execution_count": 13
        }
      ]
    },
    {
      "cell_type": "code",
      "metadata": {
        "id": "5_MuSYjC2h8W"
      },
      "source": [
        "train_images = train_images / 255.0\r\n",
        "test_images = test_images / 255.0"
      ],
      "execution_count": null,
      "outputs": []
    },
    {
      "cell_type": "code",
      "metadata": {
        "colab": {
          "base_uri": "https://localhost:8080/"
        },
        "id": "i-sUl-ZB8XhG",
        "outputId": "9e1f5cde-41f7-462d-889a-6345f6d89f6c"
      },
      "source": [
        "model = keras.Sequential([\r\n",
        "    keras.layers.Flatten(input_shape=(28, 28)),\r\n",
        "    keras.layers.Dense(128, activation=tf.nn.relu),\r\n",
        "    keras.layers.Dense(50, activation=tf.nn.softmax)\r\n",
        "])\r\n",
        "model.summary()"
      ],
      "execution_count": null,
      "outputs": [
        {
          "output_type": "stream",
          "text": [
            "Model: \"sequential\"\n",
            "_________________________________________________________________\n",
            "Layer (type)                 Output Shape              Param #   \n",
            "=================================================================\n",
            "flatten (Flatten)            (None, 784)               0         \n",
            "_________________________________________________________________\n",
            "dense (Dense)                (None, 128)               100480    \n",
            "_________________________________________________________________\n",
            "dense_1 (Dense)              (None, 50)                6450      \n",
            "=================================================================\n",
            "Total params: 106,930\n",
            "Trainable params: 106,930\n",
            "Non-trainable params: 0\n",
            "_________________________________________________________________\n"
          ],
          "name": "stdout"
        }
      ]
    },
    {
      "cell_type": "code",
      "metadata": {
        "id": "POyZOSVkP37W"
      },
      "source": [
        "model.compile(optimizer='adam', \r\n",
        "              loss='sparse_categorical_crossentropy',\r\n",
        "              metrics=['accuracy'])"
      ],
      "execution_count": null,
      "outputs": []
    },
    {
      "cell_type": "code",
      "metadata": {
        "colab": {
          "base_uri": "https://localhost:8080/"
        },
        "id": "NDJ-Q_DtP53N",
        "outputId": "50ae9008-c0fe-4b92-b188-315dcb41affa"
      },
      "source": [
        "model.fit(train_images, train_labels, epochs=5)"
      ],
      "execution_count": null,
      "outputs": [
        {
          "output_type": "stream",
          "text": [
            "Epoch 1/5\n",
            "1875/1875 [==============================] - 5s 2ms/step - loss: 2.0713 - accuracy: 0.3875\n",
            "Epoch 2/5\n",
            "1875/1875 [==============================] - 4s 2ms/step - loss: 0.7510 - accuracy: 0.7433\n",
            "Epoch 3/5\n",
            "1875/1875 [==============================] - 4s 2ms/step - loss: 0.6172 - accuracy: 0.7764\n",
            "Epoch 4/5\n",
            "1875/1875 [==============================] - 5s 2ms/step - loss: 0.5598 - accuracy: 0.7992\n",
            "Epoch 5/5\n",
            "1875/1875 [==============================] - 4s 2ms/step - loss: 0.5277 - accuracy: 0.8123\n"
          ],
          "name": "stdout"
        },
        {
          "output_type": "execute_result",
          "data": {
            "text/plain": [
              "<tensorflow.python.keras.callbacks.History at 0x7f60d5aba7b8>"
            ]
          },
          "metadata": {
            "tags": []
          },
          "execution_count": 18
        }
      ]
    },
    {
      "cell_type": "code",
      "metadata": {
        "colab": {
          "base_uri": "https://localhost:8080/"
        },
        "id": "SF3mylUiP8y1",
        "outputId": "e78906d8-7c80-45be-bb00-c9812d066473"
      },
      "source": [
        "test_loss, test_acc = model.evaluate(test_images, test_labels)\r\n",
        "\r\n",
        "print('Test accuracy:', test_acc)"
      ],
      "execution_count": null,
      "outputs": [
        {
          "output_type": "stream",
          "text": [
            "313/313 [==============================] - 1s 1ms/step - loss: 0.5309 - accuracy: 0.8090\n",
            "Test accuracy: 0.8090000152587891\n"
          ],
          "name": "stdout"
        }
      ]
    },
    {
      "cell_type": "code",
      "metadata": {
        "id": "uqhMa3PRQE7T"
      },
      "source": [
        "predictions = model.predict(test_images)"
      ],
      "execution_count": null,
      "outputs": []
    },
    {
      "cell_type": "code",
      "metadata": {
        "colab": {
          "base_uri": "https://localhost:8080/"
        },
        "id": "qiOrwsnEQI-1",
        "outputId": "18c7d59a-510f-4775-dc25-099473937897"
      },
      "source": [
        "predictions[0]"
      ],
      "execution_count": null,
      "outputs": [
        {
          "output_type": "execute_result",
          "data": {
            "text/plain": [
              "array([6.3480779e-06, 1.9560282e-07, 1.8354098e-05, 2.1705197e-05,\n",
              "       6.4286956e-05, 2.1099316e-01, 3.8426169e-05, 3.2357356e-01,\n",
              "       6.7075193e-03, 4.5857581e-01, 1.6053592e-08, 1.8643886e-08,\n",
              "       1.6439309e-08, 1.4940179e-08, 1.3105809e-08, 1.9025787e-08,\n",
              "       1.9173328e-08, 2.1057900e-08, 1.4975271e-08, 2.2696826e-08,\n",
              "       1.5595417e-08, 1.5356063e-08, 1.6156589e-08, 1.6955939e-08,\n",
              "       2.1230752e-08, 1.8178513e-08, 1.8722535e-08, 1.5805638e-08,\n",
              "       1.4909464e-08, 2.2510234e-08, 1.9770185e-08, 2.0138442e-08,\n",
              "       1.4661581e-08, 1.4715147e-08, 1.6869713e-08, 1.3624533e-08,\n",
              "       1.7237088e-08, 1.3520491e-08, 2.0566603e-08, 2.2260377e-08,\n",
              "       1.8950566e-08, 1.8545149e-08, 1.1886022e-08, 1.6278431e-08,\n",
              "       1.5466616e-08, 2.0568917e-08, 1.9329345e-08, 1.3245483e-08,\n",
              "       1.8320319e-08, 2.2954254e-08], dtype=float32)"
            ]
          },
          "metadata": {
            "tags": []
          },
          "execution_count": 21
        }
      ]
    },
    {
      "cell_type": "code",
      "metadata": {
        "colab": {
          "base_uri": "https://localhost:8080/"
        },
        "id": "n7lwiIL4QLk0",
        "outputId": "11f46336-7e4b-4c3c-8b88-e3a31dc7ea8f"
      },
      "source": [
        "np.argmax(predictions[0])"
      ],
      "execution_count": null,
      "outputs": [
        {
          "output_type": "execute_result",
          "data": {
            "text/plain": [
              "9"
            ]
          },
          "metadata": {
            "tags": []
          },
          "execution_count": 22
        }
      ]
    },
    {
      "cell_type": "code",
      "metadata": {
        "colab": {
          "base_uri": "https://localhost:8080/"
        },
        "id": "h_NQNiSiQN_E",
        "outputId": "0ef52bd3-a81a-4040-bf56-088cf6b279cc"
      },
      "source": [
        "test_labels[0]"
      ],
      "execution_count": null,
      "outputs": [
        {
          "output_type": "execute_result",
          "data": {
            "text/plain": [
              "9"
            ]
          },
          "metadata": {
            "tags": []
          },
          "execution_count": 23
        }
      ]
    },
    {
      "cell_type": "code",
      "metadata": {
        "colab": {
          "base_uri": "https://localhost:8080/"
        },
        "id": "XQKNa69xQRbF",
        "outputId": "9de209bb-1c99-4a47-f0b2-fc3b90d68cd7"
      },
      "source": [
        "img = test_images[0]\r\n",
        "\r\n",
        "print(img.shape)"
      ],
      "execution_count": null,
      "outputs": [
        {
          "output_type": "stream",
          "text": [
            "(28, 28)\n"
          ],
          "name": "stdout"
        }
      ]
    },
    {
      "cell_type": "code",
      "metadata": {
        "colab": {
          "base_uri": "https://localhost:8080/"
        },
        "id": "__0bKctmQUgF",
        "outputId": "0c1400a7-7430-4bca-df50-30823602f2f1"
      },
      "source": [
        "img = (np.expand_dims(img,0))\r\n",
        "\r\n",
        "print(img.shape)"
      ],
      "execution_count": null,
      "outputs": [
        {
          "output_type": "stream",
          "text": [
            "(1, 28, 28)\n"
          ],
          "name": "stdout"
        }
      ]
    },
    {
      "cell_type": "code",
      "metadata": {
        "colab": {
          "base_uri": "https://localhost:8080/"
        },
        "id": "M_X1r1F6QXRs",
        "outputId": "31da10e6-1692-4531-fe09-1bcc6801de7a"
      },
      "source": [
        "predictions_single = model.predict(img)\r\n",
        "\r\n",
        "print(predictions_single)"
      ],
      "execution_count": null,
      "outputs": [
        {
          "output_type": "stream",
          "text": [
            "[[6.34807293e-06 1.95603036e-07 1.83541015e-05 2.17052220e-05\n",
            "  6.42869636e-05 2.10993096e-01 3.84261402e-05 3.23573500e-01\n",
            "  6.70751790e-03 4.58575904e-01 1.60536242e-08 1.86438900e-08\n",
            "  1.64393104e-08 1.49401824e-08 1.31058115e-08 1.90257925e-08\n",
            "  1.91733314e-08 2.10579056e-08 1.49752726e-08 2.26968737e-08\n",
            "  1.55954201e-08 1.53560364e-08 1.61565907e-08 1.69559424e-08\n",
            "  2.12308375e-08 1.81784809e-08 1.87225382e-08 1.58056412e-08\n",
            "  1.49094372e-08 2.25101964e-08 1.97701890e-08 2.01384847e-08\n",
            "  1.46615839e-08 1.47151500e-08 1.68696843e-08 1.36245353e-08\n",
            "  1.72370918e-08 1.35204674e-08 2.05666471e-08 2.22603820e-08\n",
            "  1.89505336e-08 1.85451174e-08 1.18860477e-08 1.62784026e-08\n",
            "  1.54665898e-08 2.05689616e-08 1.93293861e-08 1.32454607e-08\n",
            "  1.83202875e-08 2.29542572e-08]]\n"
          ],
          "name": "stdout"
        }
      ]
    },
    {
      "cell_type": "code",
      "metadata": {
        "colab": {
          "base_uri": "https://localhost:8080/"
        },
        "id": "L5E1B-GbQaFs",
        "outputId": "aefbe3da-998c-405e-d81a-796f3ad11db4"
      },
      "source": [
        "np.argmax(predictions_single[0])"
      ],
      "execution_count": null,
      "outputs": [
        {
          "output_type": "execute_result",
          "data": {
            "text/plain": [
              "9"
            ]
          },
          "metadata": {
            "tags": []
          },
          "execution_count": 27
        }
      ]
    },
    {
      "cell_type": "code",
      "metadata": {
        "id": "ZX9IU5--QcjD"
      },
      "source": [
        ""
      ],
      "execution_count": null,
      "outputs": []
    }
  ]
}