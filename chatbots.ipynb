{
  "nbformat": 4,
  "nbformat_minor": 0,
  "metadata": {
    "colab": {
      "name": "chatbots.ipynb",
      "provenance": [],
      "collapsed_sections": [],
      "include_colab_link": true
    },
    "kernelspec": {
      "name": "python3",
      "display_name": "Python 3"
    }
  },
  "cells": [
    {
      "cell_type": "markdown",
      "metadata": {
        "id": "view-in-github",
        "colab_type": "text"
      },
      "source": [
        "<a href=\"https://colab.research.google.com/github/luanmooraes/Machine-Learning/blob/main/chatbots.ipynb\" target=\"_parent\"><img src=\"https://colab.research.google.com/assets/colab-badge.svg\" alt=\"Open In Colab\"/></a>"
      ]
    },
    {
      "cell_type": "code",
      "metadata": {
        "id": "mk_fxpQNhY5h"
      },
      "source": [
        "import nltk\r\n",
        "from sklearn.feature_extraction.text import TfidfVectorizer\r\n",
        "import pandas as pd"
      ],
      "execution_count": null,
      "outputs": []
    },
    {
      "cell_type": "code",
      "metadata": {
        "colab": {
          "base_uri": "https://localhost:8080/"
        },
        "id": "ODCJopSWhd_H",
        "outputId": "271f77f3-b1a4-466a-82a2-5aa701964332"
      },
      "source": [
        "nltk.download('stopwords')\r\n",
        "stopwords = nltk.corpus.stopwords.words('portuguese')\r\n",
        "print(stopwords)\r\n",
        "from nltk.tokenize import word_tokenize\r\n",
        "nltk.download('punkt')"
      ],
      "execution_count": null,
      "outputs": [
        {
          "output_type": "stream",
          "text": [
            "[nltk_data] Downloading package stopwords to /root/nltk_data...\n",
            "[nltk_data]   Package stopwords is already up-to-date!\n",
            "['de', 'a', 'o', 'que', 'e', 'é', 'do', 'da', 'em', 'um', 'para', 'com', 'não', 'uma', 'os', 'no', 'se', 'na', 'por', 'mais', 'as', 'dos', 'como', 'mas', 'ao', 'ele', 'das', 'à', 'seu', 'sua', 'ou', 'quando', 'muito', 'nos', 'já', 'eu', 'também', 'só', 'pelo', 'pela', 'até', 'isso', 'ela', 'entre', 'depois', 'sem', 'mesmo', 'aos', 'seus', 'quem', 'nas', 'me', 'esse', 'eles', 'você', 'essa', 'num', 'nem', 'suas', 'meu', 'às', 'minha', 'numa', 'pelos', 'elas', 'qual', 'nós', 'lhe', 'deles', 'essas', 'esses', 'pelas', 'este', 'dele', 'tu', 'te', 'vocês', 'vos', 'lhes', 'meus', 'minhas', 'teu', 'tua', 'teus', 'tuas', 'nosso', 'nossa', 'nossos', 'nossas', 'dela', 'delas', 'esta', 'estes', 'estas', 'aquele', 'aquela', 'aqueles', 'aquelas', 'isto', 'aquilo', 'estou', 'está', 'estamos', 'estão', 'estive', 'esteve', 'estivemos', 'estiveram', 'estava', 'estávamos', 'estavam', 'estivera', 'estivéramos', 'esteja', 'estejamos', 'estejam', 'estivesse', 'estivéssemos', 'estivessem', 'estiver', 'estivermos', 'estiverem', 'hei', 'há', 'havemos', 'hão', 'houve', 'houvemos', 'houveram', 'houvera', 'houvéramos', 'haja', 'hajamos', 'hajam', 'houvesse', 'houvéssemos', 'houvessem', 'houver', 'houvermos', 'houverem', 'houverei', 'houverá', 'houveremos', 'houverão', 'houveria', 'houveríamos', 'houveriam', 'sou', 'somos', 'são', 'era', 'éramos', 'eram', 'fui', 'foi', 'fomos', 'foram', 'fora', 'fôramos', 'seja', 'sejamos', 'sejam', 'fosse', 'fôssemos', 'fossem', 'for', 'formos', 'forem', 'serei', 'será', 'seremos', 'serão', 'seria', 'seríamos', 'seriam', 'tenho', 'tem', 'temos', 'tém', 'tinha', 'tínhamos', 'tinham', 'tive', 'teve', 'tivemos', 'tiveram', 'tivera', 'tivéramos', 'tenha', 'tenhamos', 'tenham', 'tivesse', 'tivéssemos', 'tivessem', 'tiver', 'tivermos', 'tiverem', 'terei', 'terá', 'teremos', 'terão', 'teria', 'teríamos', 'teriam']\n",
            "[nltk_data] Downloading package punkt to /root/nltk_data...\n",
            "[nltk_data]   Package punkt is already up-to-date!\n"
          ],
          "name": "stdout"
        },
        {
          "output_type": "execute_result",
          "data": {
            "text/plain": [
              "True"
            ]
          },
          "metadata": {
            "tags": []
          },
          "execution_count": 17
        }
      ]
    },
    {
      "cell_type": "code",
      "metadata": {
        "id": "LYEiSVYJhukc"
      },
      "source": [
        "texto = 'Um carro azul seguia rapidamente em uma rodovia, e ao passar por um buraco, o carro furou o pneu, e o motorista desceu do carro azul'"
      ],
      "execution_count": null,
      "outputs": []
    },
    {
      "cell_type": "code",
      "metadata": {
        "id": "r70b5JDriAzd"
      },
      "source": [
        "tokens = word_tokenize(texto)"
      ],
      "execution_count": null,
      "outputs": []
    },
    {
      "cell_type": "code",
      "metadata": {
        "colab": {
          "base_uri": "https://localhost:8080/"
        },
        "id": "QNjH23j7iDLL",
        "outputId": "38d5dc66-6007-4d89-e795-24a206d0c467"
      },
      "source": [
        "print(tokens)"
      ],
      "execution_count": null,
      "outputs": [
        {
          "output_type": "stream",
          "text": [
            "['Um', 'carro', 'azul', 'seguia', 'rapidamente', 'em', 'uma', 'rodovia', ',', 'e', 'ao', 'passar', 'por', 'um', 'buraco', ',', 'o', 'carro', 'furou', 'o', 'pneu', ',', 'e', 'o', 'motorista', 'desceu', 'do', 'carro', 'azul']\n"
          ],
          "name": "stdout"
        }
      ]
    },
    {
      "cell_type": "code",
      "metadata": {
        "colab": {
          "base_uri": "https://localhost:8080/"
        },
        "id": "NfiUkJgriiA9",
        "outputId": "c7305c59-4ff7-40ce-eb21-db9dddbf89fd"
      },
      "source": [
        "\r\n",
        "for t in tokens:\r\n",
        "    if t not in stopwords:\r\n",
        "        print(t)\r\n",
        "        "
      ],
      "execution_count": null,
      "outputs": [
        {
          "output_type": "stream",
          "text": [
            "Um\n",
            "carro\n",
            "azul\n",
            "seguia\n",
            "rapidamente\n",
            "rodovia\n",
            ",\n",
            "passar\n",
            "buraco\n",
            ",\n",
            "carro\n",
            "furou\n",
            "pneu\n",
            ",\n",
            "motorista\n",
            "desceu\n",
            "carro\n",
            "azul\n"
          ],
          "name": "stdout"
        }
      ]
    },
    {
      "cell_type": "code",
      "metadata": {
        "id": "m-DTqPTBi_60"
      },
      "source": [
        "from sklearn.feature_extraction.text import TfidfVectorizer\r\n",
        "import pandas as pd"
      ],
      "execution_count": null,
      "outputs": []
    },
    {
      "cell_type": "code",
      "metadata": {
        "id": "wpocTyWWjFts"
      },
      "source": [
        "texto = 'Um carro azul seguia rapidamente em uma rodovia, e ao passar por um buraco, o carro furou o pneu, e o motorista desceu do carro azul'"
      ],
      "execution_count": null,
      "outputs": []
    },
    {
      "cell_type": "code",
      "metadata": {
        "id": "VSMSpixQjQXc"
      },
      "source": [
        "tf_idf = TfidfVectorizer()"
      ],
      "execution_count": null,
      "outputs": []
    },
    {
      "cell_type": "code",
      "metadata": {
        "colab": {
          "base_uri": "https://localhost:8080/"
        },
        "id": "9bN7oYGGjTWN",
        "outputId": "a7ec4989-e784-4a9e-b69a-ada3813dfb0d"
      },
      "source": [
        "vetor = tf_idf.fit_transform([texto])\r\n",
        "print(vetor)"
      ],
      "execution_count": null,
      "outputs": [
        {
          "output_type": "stream",
          "text": [
            "  (0, 5)\t0.1796053020267749\n",
            "  (0, 4)\t0.1796053020267749\n",
            "  (0, 8)\t0.1796053020267749\n",
            "  (0, 10)\t0.1796053020267749\n",
            "  (0, 7)\t0.1796053020267749\n",
            "  (0, 2)\t0.1796053020267749\n",
            "  (0, 11)\t0.1796053020267749\n",
            "  (0, 9)\t0.1796053020267749\n",
            "  (0, 0)\t0.1796053020267749\n",
            "  (0, 13)\t0.1796053020267749\n",
            "  (0, 16)\t0.1796053020267749\n",
            "  (0, 6)\t0.1796053020267749\n",
            "  (0, 12)\t0.1796053020267749\n",
            "  (0, 14)\t0.1796053020267749\n",
            "  (0, 1)\t0.3592106040535498\n",
            "  (0, 3)\t0.5388159060803247\n",
            "  (0, 15)\t0.3592106040535498\n"
          ],
          "name": "stdout"
        }
      ]
    },
    {
      "cell_type": "code",
      "metadata": {
        "colab": {
          "base_uri": "https://localhost:8080/"
        },
        "id": "NhOMhXMajU67",
        "outputId": "9c5106b5-549c-4538-943d-6a5571ab6b60"
      },
      "source": [
        "vetor = vetor.todense()\r\n",
        "print(vetor)"
      ],
      "execution_count": null,
      "outputs": [
        {
          "output_type": "stream",
          "text": [
            "[[0.1796053  0.3592106  0.1796053  0.53881591 0.1796053  0.1796053\n",
            "  0.1796053  0.1796053  0.1796053  0.1796053  0.1796053  0.1796053\n",
            "  0.1796053  0.1796053  0.1796053  0.3592106  0.1796053 ]]\n"
          ],
          "name": "stdout"
        }
      ]
    },
    {
      "cell_type": "code",
      "metadata": {
        "id": "_GN51-sSjXZs"
      },
      "source": [
        "nomes = tf_idf.get_feature_names()"
      ],
      "execution_count": null,
      "outputs": []
    },
    {
      "cell_type": "code",
      "metadata": {
        "colab": {
          "base_uri": "https://localhost:8080/"
        },
        "id": "X3QyDCY9jZlz",
        "outputId": "a8dac921-4f1e-44fa-8b68-3e41533df702"
      },
      "source": [
        "df = pd.DataFrame(vetor, columns=nomes)\r\n",
        "print(df)"
      ],
      "execution_count": null,
      "outputs": [
        {
          "output_type": "stream",
          "text": [
            "         ao      azul    buraco  ...    seguia        um       uma\n",
            "0  0.179605  0.359211  0.179605  ...  0.179605  0.359211  0.179605\n",
            "\n",
            "[1 rows x 17 columns]\n"
          ],
          "name": "stdout"
        }
      ]
    },
    {
      "cell_type": "code",
      "metadata": {
        "id": "eIBO_Cm7jbhE"
      },
      "source": [
        ""
      ],
      "execution_count": null,
      "outputs": []
    }
  ]
}